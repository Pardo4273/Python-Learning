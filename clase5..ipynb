{
 "cells": [
  {
   "cell_type": "code",
   "execution_count": 20,
   "id": "a1663d7f",
   "metadata": {},
   "outputs": [
    {
     "ename": "SyntaxError",
     "evalue": "invalid syntax (3365345070.py, line 3)",
     "output_type": "error",
     "traceback": [
      "  \u001b[36mCell\u001b[39m\u001b[36m \u001b[39m\u001b[32mIn[20]\u001b[39m\u001b[32m, line 3\u001b[39m\n\u001b[31m    \u001b[39m\u001b[31mBB=\u001b[39m\n       ^\n\u001b[31mSyntaxError\u001b[39m\u001b[31m:\u001b[39m invalid syntax\n"
     ]
    }
   ],
   "source": [
    "#dar forma a las salidas de impresiones\n",
    "AA=13\n",
    "BB="
   ]
  },
  {
   "cell_type": "code",
   "execution_count": null,
   "id": "bf9bd9aa",
   "metadata": {},
   "outputs": [
    {
     "name": "stdout",
     "output_type": "stream",
     "text": [
      "el valor de la variable es: 14 y el valor de la variable es: comida\n"
     ]
    }
   ],
   "source": [
    "CC=14\n",
    "DD=\"comida\"\n",
    "print(f\"el valor de la variable es: {CC} y el valor de la variable es: {DD}\")"
   ]
  },
  {
   "cell_type": "code",
   "execution_count": null,
   "id": "91ed95e4",
   "metadata": {},
   "outputs": [
    {
     "name": "stdout",
     "output_type": "stream",
     "text": [
      "Hola, mucho gusto mi nombre es Pardo  y tengo 19 años \n"
     ]
    }
   ],
   "source": [
    "nombre= \"Pardo\"\n",
    "edad=19\n",
    "print(\"Hola, mucho gusto mi nombre es {}  y tengo {} años \". format(nombre, edad))"
   ]
  },
  {
   "cell_type": "code",
   "execution_count": null,
   "id": "fa92ff5a",
   "metadata": {},
   "outputs": [
    {
     "name": "stdout",
     "output_type": "stream",
     "text": [
      "Hola, mucho gusto mi nombre es Juan y tengo 20 años\n"
     ]
    }
   ],
   "source": [
    "Nombre= \"Juan\"\n",
    "Edad=20\n",
    "print(\"Hola, mucho gusto mi nombre es %s y tengo %d años\" % (Nombre, Edad))"
   ]
  },
  {
   "cell_type": "markdown",
   "id": "cbca2315",
   "metadata": {},
   "source": [
    "# CARACTERES DE ESCAPE\n"
   ]
  },
  {
   "cell_type": "code",
   "execution_count": null,
   "id": "45500c7d",
   "metadata": {},
   "outputs": [
    {
     "name": "stdout",
     "output_type": "stream",
     "text": [
      "  por pereza llegue algo tarde         mos, \n"
     ]
    }
   ],
   "source": [
    "# usando el \\r\n",
    "print(\"    no tenia ganas de asistir a algoritmos, \\r  por pereza llegue algo tarde\")"
   ]
  },
  {
   "cell_type": "code",
   "execution_count": null,
   "id": "e3e8a0f9",
   "metadata": {},
   "outputs": [
    {
     "name": "stdout",
     "output_type": "stream",
     "text": [
      "me levante tarde hoy, llegue  tarde  a la clase de algoritmos \n"
     ]
    }
   ],
   "source": [
    "print(\"me levante tarde hoy, llegue \",\"tarde\",\" a la clase de algoritmos \")\n"
   ]
  },
  {
   "cell_type": "code",
   "execution_count": null,
   "id": "dd6f25f2",
   "metadata": {},
   "outputs": [
    {
     "name": "stdout",
     "output_type": "stream",
     "text": [
      "juan\tDavid\tvargas\tBello\n"
     ]
    }
   ],
   "source": [
    "print (\"Juan\\tDavid\\tvargas\\tBello\")\n"
   ]
  },
  {
   "cell_type": "code",
   "execution_count": null,
   "id": "4ac9113c",
   "metadata": {},
   "outputs": [
    {
     "name": "stdout",
     "output_type": "stream",
     "text": [
      " el semestre se acaba el 7 junio.\n",
      " toca haer un asadito\n"
     ]
    }
   ],
   "source": [
    "print(\" el semestre se acaba el 6 junio.\\n toca haer un asadito\")"
   ]
  },
  {
   "cell_type": "markdown",
   "id": "e55dbd83",
   "metadata": {},
   "source": [
    "# OPERADORES MATEMATICOS Y VARIBLES ENTERAS Y FLOTANTES"
   ]
  },
  {
   "cell_type": "code",
   "execution_count": null,
   "id": "af471471",
   "metadata": {},
   "outputs": [
    {
     "name": "stdout",
     "output_type": "stream",
     "text": [
      "el resultado de la suma es: -10 y el tipo de variable es: <class 'int'>\n"
     ]
    },
    {
     "ename": "",
     "evalue": "",
     "output_type": "error",
     "traceback": [
      "\u001b[1;31mEl kernel se bloqueó al ejecutar código en la celda actual o en una celda anterior. \n",
      "\u001b[1;31mRevise el código de las celdas para identificar una posible causa del error. \n",
      "\u001b[1;31mHaga clic <a href='https://aka.ms/vscodeJupyterKernelCrash'>aquí</a> para obtener más información. \n",
      "\u001b[1;31mVea Jupyter <a href='command:jupyter.viewOutput'>log</a> para obtener más detalles."
     ]
    }
   ],
   "source": [
    "Num_1=10\n",
    "Num_2=20    \n",
    "resta=Num_1-Num_2\n",
    "print(f\"el resultado de la suma es: {resta} y el tipo de variable es: {type(resta)}\")"
   ]
  },
  {
   "cell_type": "code",
   "execution_count": 21,
   "id": "5b4e87e0",
   "metadata": {},
   "outputs": [
    {
     "name": "stdout",
     "output_type": "stream",
     "text": [
      "la lista ordenada es:  [15, 18, 22, 32, 44, 54, 55, 62, 94]\n"
     ]
    }
   ],
   "source": [
    "# Definimos una función llamada ordenamientoporinsercion que recibe una lista como parámetro\n",
    "def ordenamientoporinsercion(unalista):\n",
    "    # Recorremos la lista desde el segundo elemento hasta el final\n",
    "    for indice in range(1, len(unalista)):\n",
    "        # Guardamos el valor actual que queremos insertar en la posición correcta\n",
    "        valoractual = unalista[indice]\n",
    "        # Guardamos la posición actual, que puede cambiar si el valor debe moverse hacia la izquierda\n",
    "        posicion = indice\n",
    "\n",
    "        # Mientras no estemos al inicio y el elemento anterior sea mayor que el valor actual,\n",
    "        # movemos ese elemento una posición a la derecha\n",
    "        while posicion > 0 and unalista[posicion - 1] > valoractual:\n",
    "            unalista[posicion] = unalista[posicion - 1]\n",
    "            posicion = posicion - 1\n",
    "\n",
    "        # Insertamos el valor actual en la posición correcta encontrada\n",
    "        unalista[posicion] = valoractual\n",
    "\n",
    "# Creamos una lista desordenada de números\n",
    "unalista = [54, 32, 18, 44, 22, 15, 62, 55, 94]\n",
    "# Llamamos a la función para ordenar la lista\n",
    "ordenamientoporinsercion(unalista)\n",
    "\n",
    "# Imprimimos la lista ya ordenada\n",
    "print(\"la lista ordenada es: \", unalista)\n",
    "\n",
    "\n"
   ]
  },
  {
   "cell_type": "code",
   "execution_count": 24,
   "id": "461db750",
   "metadata": {},
   "outputs": [
    {
     "name": "stdout",
     "output_type": "stream",
     "text": [
      "[17, 20, 26, 31, 44, 54, 55, 77, 93]\n"
     ]
    }
   ],
   "source": [
    "# Definimos la función \"ordenamientoPorSeleccion\" que recibe una lista como parámetro\n",
    "def ordenamientoPorSeleccion(unaLista):\n",
    "    # Recorremos la lista desde el final hacia el principio\n",
    "    for llenarRanura in range(len(unaLista)-1, 0, -1):\n",
    "        # Suponemos que el mayor valor está en la primera posición\n",
    "        posicionDelMayor = 0\n",
    "        # Buscamos el valor más grande entre la posición 0 y llenarRanura\n",
    "        for ubicacion in range(1, llenarRanura + 1):\n",
    "            # Si encontramos un valor mayor, actualizamos la posición del mayor\n",
    "            if unaLista[ubicacion] > unaLista[posicionDelMayor]:\n",
    "                posicionDelMayor = ubicacion\n",
    "\n",
    "        # Intercambiamos el mayor valor encontrado con el valor en la posición llenarRanura\n",
    "        temp = unaLista[llenarRanura]\n",
    "        unaLista[llenarRanura] = unaLista[posicionDelMayor]\n",
    "        unaLista[posicionDelMayor] = temp\n",
    "\n",
    "# Creamos una lista desordenada\n",
    "unaLista = [54, 26, 93, 17, 77, 31, 44, 55, 20]\n",
    "# Llamamos a la función para ordenar la lista\n",
    "ordenamientoPorSeleccion(unaLista)\n",
    "\n",
    "# Imprimimos la lista ya ordenada\n",
    "print(unaLista)"
   ]
  }
 ],
 "metadata": {
  "kernelspec": {
   "display_name": "Python 3",
   "language": "python",
   "name": "python3"
  },
  "language_info": {
   "codemirror_mode": {
    "name": "ipython",
    "version": 3
   },
   "file_extension": ".py",
   "mimetype": "text/x-python",
   "name": "python",
   "nbconvert_exporter": "python",
   "pygments_lexer": "ipython3",
   "version": "3.12.10"
  }
 },
 "nbformat": 4,
 "nbformat_minor": 5
}
